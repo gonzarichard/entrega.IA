{
 "cells": [
  {
   "cell_type": "markdown",
   "id": "56c75dd7",
   "metadata": {},
   "source": [
    "# Proyecto Final – Asistente de Estudio con IA"
   ]
  },
  {
   "cell_type": "code",
   "execution_count": null,
   "id": "e8244153",
   "metadata": {},
   "outputs": [],
   "source": []
  },
  {
   "cell_type": "markdown",
   "id": "aaae541f",
   "metadata": {},
   "source": [
    "\n",
    "## Presentación del problema\n",
    "Uno de los principales problemas que enfrentan muchos estudiantes universitarios es la dificultad para organizar sus tiempos de estudio, comprender ciertos temas complejos y mantener la motivación.  \n",
    "Esta situación genera retrasos académicos, estrés y, en muchos casos, bajo rendimiento. Actualmente, muchos alumnos intentan resolver este problema de manera desorganizada, buscando información en internet o resúmenes poco confiables, lo cual no siempre garantiza un aprendizaje real ni una planificación efectiva.  \n",
    "\n",
    "La problemática es relevante porque afecta directamente al rendimiento académico y al bienestar de los estudiantes. Diseñar una herramienta basada en IA que ayude a estructurar el estudio y generar materiales de apoyo personalizados puede marcar una diferencia real en su vida académica.\n"
   ]
  },
  {
   "cell_type": "markdown",
   "id": "53dd0403",
   "metadata": {},
   "source": [
    "\n",
    "## Desarrollo de la propuesta de solución\n",
    "La solución que propongo es la creación de un asistente de estudio personalizado mediante generación de prompts. El objetivo es que el estudiante pueda ingresar un tema o materia, y el sistema genere automáticamente:\n",
    "\n",
    "**Prompts texto-texto (usando un modelo de lenguaje):**\n",
    "- Resúmenes de un tema específico.  \n",
    "- Explicaciones adaptadas a distintos niveles de dificultad (básico, intermedio, avanzado).  \n",
    "- Listas de preguntas y respuestas tipo examen.  \n",
    "- Planificaciones de estudio por bloques de tiempo.  \n",
    "\n",
    "**Prompts texto-imagen (usando un generador de imágenes):**\n",
    "- Infografías o esquemas visuales que representen conceptos clave (mapas conceptuales, diagramas de procesos, líneas de tiempo).  \n",
    "- Ilustraciones que refuercen la comprensión de temas complejos.  \n"
   ]
  },
  {
   "cell_type": "markdown",
   "id": "7e895ec0",
   "metadata": {},
   "source": [
    "\n",
    "## Justificación de la viabilidad\n",
    "El proyecto es viable técnicamente porque:  \n",
    "- Se trabajará con prompts ya probados en modelos disponibles (ChatGPT para texto-texto y DALL·E u otro generador para texto-imagen).  \n",
    "- No requiere conocimientos avanzados de programación, solo diseño y refinamiento de prompts.  \n",
    "- El alcance está claramente definido: generar materiales de estudio personalizados y organizados.  \n",
    "- Los recursos necesarios son accesibles: acceso a los modelos de IA usados en el curso y un procesador de texto para redactar la entrega.  \n",
    "- En cuanto al tiempo, el proyecto es factible ya que puede dividirse en etapas: diseño de prompts iniciales, ajuste de resultados e integración de ejemplos de uso.  \n",
    "\n",
    "La elección de esta problemática se justifica porque es real, cercana y relevante para la vida académica, lo que asegura motivación y contexto suficiente para desarrollarla.\n"
   ]
  },
  {
   "cell_type": "markdown",
   "id": "b385b414",
   "metadata": {},
   "source": [
    "\n",
    "## Metodología\n",
    "El proyecto se llevará a cabo en las siguientes etapas:  \n",
    "1. **Identificación de la necesidad**: los estudiantes requieren apoyo para organizar sus tiempos, comprender temas y mantenerse motivados.  \n",
    "2. **Diseño de prompts específicos**:  \n",
    "   - Texto → Texto: resúmenes, explicaciones por nivel, preguntas tipo examen, planes de estudio.  \n",
    "   - Texto → Imagen: mapas conceptuales, diagramas y líneas de tiempo para visualizar conceptos.  \n",
    "3. **Implementación en Jupyter Notebook**: integrar ejemplos de código con OpenAI (texto → texto) y documentar prompts de imágenes generadas con herramientas externas.  \n",
    "4. **Optimización mediante fast prompting**: aplicar técnicas como role prompting, step prompting y refinement prompting.  \n",
    "5. **Evaluación de resultados**: analizar si los contenidos generados son claros, organizados y útiles para el estudio.  \n",
    "6. **Conclusión y reflexión**: determinar la utilidad del asistente y el aprendizaje obtenido en el proceso.  \n"
   ]
  },
  {
   "cell_type": "markdown",
   "id": "75fb0a0f",
   "metadata": {},
   "source": [
    "\n",
    "## Herramientas y tecnologías\n",
    "- **OpenAI (GPT-4o-mini / GPT-4.1)**: generación de texto.  \n",
    "- **Generadores de imágenes gratuitos (Nightcafe, Stable Diffusion, LeonardoAI)**.  \n",
    "- **Fast prompting**:  \n",
    "  - Role prompting: definir al modelo como profesor o tutor.  \n",
    "  - Chain prompting: dividir tareas en pasos.  \n",
    "  - Refinement prompting: pedir variaciones y mejoras.  \n",
    "- **Jupyter Notebook**: para código, texto e imágenes.  \n",
    "- **GitHub**: para compartir el proyecto.  \n"
   ]
  },
  {
   "cell_type": "markdown",
   "id": "9c5e2e38",
   "metadata": {},
   "source": [
    "## Implementación"
   ]
  },
  {
   "cell_type": "markdown",
   "id": "6a1be754",
   "metadata": {},
   "source": []
  },
  {
   "cell_type": "code",
   "execution_count": null,
   "id": "bc5db7cd",
   "metadata": {},
   "outputs": [
    {
     "ename": "",
     "evalue": "",
     "output_type": "error",
     "traceback": [
      "\u001b[1;31mRunning cells with 'base (Python 3.13.5)' requires the ipykernel package.\n",
      "\u001b[1;31m<a href='command:jupyter.createPythonEnvAndSelectController'>Create a Python Environment</a> with the required packages.\n",
      "\u001b[1;31mOr install 'ipykernel' using the command: 'conda install -n base ipykernel --update-deps --force-reinstall'"
     ]
    }
   ],
   "source": [
    "\n",
    "from openai import OpenAI\n",
    "client = OpenAI()\n",
    "\n",
    "prompt_resumen = \"\"\"\n",
    "Eres un profesor universitario. Resume en 5 puntos principales \n",
    "el tema 'Ley de la Gravitación Universal de Newton', \n",
    "explicándolo en un nivel básico para estudiantes que recién empiezan.\n",
    "\"\"\"\n",
    "\n",
    "response = client.chat.completions.create(\n",
    "    model=\"gpt-4o-mini\",\n",
    "    messages=[{\"role\": \"user\", \"content\": prompt_resumen}],\n",
    "    max_tokens=200\n",
    ")\n",
    "\n",
    "print(response.choices[0].message.content)\n"
   ]
  },
  {
   "cell_type": "markdown",
   "id": "e727a52c",
   "metadata": {},
   "source": []
  },
  {
   "cell_type": "code",
   "execution_count": null,
   "id": "7e589421",
   "metadata": {},
   "outputs": [
    {
     "ename": "",
     "evalue": "",
     "output_type": "error",
     "traceback": 
     ]
    }
   ],
   "source": [
    "\n",
    "prompt_explicacion = \"\"\"\n",
    "Explica el concepto de 'Entropía en Termodinámica' en tres niveles:\n",
    "1. Nivel básico: para un estudiante de secundaria.\n",
    "2. Nivel intermedio: para un estudiante universitario de primer año.\n",
    "3. Nivel avanzado: para un estudiante de posgrado en física.\n",
    "\"\"\"\n",
    "\n",
    "response = client.chat.completions.create(\n",
    "    model=\"gpt-4o-mini\",\n",
    "    messages=[{\"role\": \"user\", \"content\": prompt_explicacion}],\n",
    "    max_tokens=400\n",
    ")\n",
    "\n",
    "print(response.choices[0].message.content)\n"
   ]
  },
  {
   "cell_type": "code",
   "execution_count": null,
   "id": "3af7328d",
   "metadata": {},
   "outputs": [],
   "source": []
  },
  {
   "cell_type": "markdown",
   "id": "b1c04555",
   "metadata": {},
   "source": []
  },
  {
   "cell_type": "code",
   "execution_count": null,
   "id": "eee7e5a4",
   "metadata": {},
   "outputs": [
    {
     "ename": "",
     "evalue": "",
     "output_type": "error",
     "traceback": [
     
     ]
    }
   ],
   "source": [
    "\n",
    "prompt_examen = \"\"\"\n",
    "Genera 5 preguntas tipo examen de opción múltiple sobre el tema 'Célula eucariota',\n",
    "con 4 opciones cada una e indica la respuesta correcta.\n",
    "\"\"\"\n",
    "\n",
    "response = client.chat.completions.create(\n",
    "    model=\"gpt-4o-mini\",\n",
    "    messages=[{\"role\": \"user\", \"content\": prompt_examen}],\n",
    "    max_tokens=400\n",
    ")\n",
    "\n",
    "print(response.choices[0].message.content)\n"
   ]
  },
  {
   "cell_type": "markdown",
   "id": "45e5d6ee",
   "metadata": {},
   "source": []
  },
  {
   "cell_type": "code",
   "execution_count": null,
   "id": "93e9a164",
   "metadata": {},
   "outputs": [],
   "source": [
    "\n",
    "prompt_plan = \"\"\"\n",
    "Actúa como un tutor académico. Crea un plan de estudio de 7 días para preparar un examen de Álgebra Lineal.\n",
    "Organiza el tiempo en bloques diarios de 2 horas, con objetivos específicos por día.\n",
    "\"\"\"\n",
    "\n",
    "response = client.chat.completions.create(\n",
    "    model=\"gpt-4o-mini\",\n",
    "    messages=[{\"role\": \"user\", \"content\": prompt_plan}],\n",
    "    max_tokens=300\n",
    ")\n",
    "\n",
    "print(response.choices[0].message.content)\n"
   ]
  },
  {
   "cell_type": "markdown",
   "id": "b7c9ca09",
   "metadata": {},
   "source": []
  },
  {
   "cell_type": "markdown",
   "id": "cf456cbc",
   "metadata": {},
   "source": [
    "\n",
    "## Resultados\n",
    "- **Texto → Texto**:  \n",
    "  - Se obtuvieron resúmenes claros y estructurados.  \n",
    "  - Explicaciones adaptadas a distintos niveles de dificultad.  \n",
    "  - Preguntas tipo examen útiles para repaso.  \n",
    "  - Plan de estudio organizado por bloques de tiempo.  \n",
    "\n"
   ]
  },
  {
   "cell_type": "markdown",
   "id": "d39a4fbe",
   "metadata": {},
   "source": [
    "\n",
    "## Conclusiones\n",
    "- La IA generativa puede funcionar como un **asistente de estudio personalizado**, capaz de adaptarse a las necesidades de cada estudiante.  \n",
    "- Se cumplieron los objetivos planteados: organización, resúmenes, evaluaciones y visualizaciones gráficas.  \n",
    "- El uso de fast prompting mejoró la claridad y utilidad de los resultados.  \n",
    "- El proyecto es técnicamente viable y replicable para cualquier estudiante con pocos recursos.  \n"
   ]
  },
  {
   "cell_type": "code",
   "execution_count": null,
   "id": "52ddbd2e",
   "metadata": {},
   "outputs": [],
   "source": []
  }
 ],
 "metadata": {
  "kernelspec": {
   "display_name": "base",
   "language": "python",
   "name": "python3"
  },
  "language_info": {
   "name": "python",
   "version": "3.13.5"
  }
 },
 "nbformat": 4,
 "nbformat_minor": 5
}
